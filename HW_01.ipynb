{
 "cells": [
  {
   "cell_type": "code",
   "execution_count": 2,
   "metadata": {},
   "outputs": [],
   "source": [
    "import torch"
   ]
  },
  {
   "cell_type": "code",
   "execution_count": 11,
   "metadata": {},
   "outputs": [
    {
     "data": {
      "text/plain": [
       "tensor([[[-1.5490, -0.5485,  0.5160, -1.6021,  1.2680],\n",
       "         [ 0.9814,  0.6676, -0.3310,  0.9185,  0.5870],\n",
       "         [-0.8282, -0.9471,  0.0027, -0.2593,  0.6044],\n",
       "         [-0.0787,  0.1981, -0.4082,  0.2270, -0.3960]],\n",
       "\n",
       "        [[-0.1196, -1.0349, -0.2805, -1.1502,  1.1282],\n",
       "         [-0.4705,  1.4417,  1.4214, -0.4969, -1.4428],\n",
       "         [ 0.6022, -0.5223, -0.4652,  0.3791,  1.9318],\n",
       "         [ 1.0282, -1.3391,  0.8451,  0.4797,  1.5098]],\n",
       "\n",
       "        [[-0.5076,  0.1868,  1.0273,  1.5171,  1.1197],\n",
       "         [ 0.7691,  1.0461, -0.2144,  0.4391,  0.6311],\n",
       "         [-0.8709, -1.5103,  0.1928, -0.2026,  0.9447],\n",
       "         [-0.5487,  0.3098,  1.2746, -0.3954,  0.4050]]])"
      ]
     },
     "execution_count": 11,
     "metadata": {},
     "output_type": "execute_result"
    }
   ],
   "source": [
    "# Создайте случайный FloatTensor размера 3x4x5\n",
    "ftsr=torch.randn(3,4,5).type(torch.FloatTensor)\n",
    "ftsr"
   ]
  },
  {
   "cell_type": "code",
   "execution_count": 12,
   "metadata": {},
   "outputs": [
    {
     "data": {
      "text/plain": [
       "torch.Size([3, 4, 5])"
      ]
     },
     "execution_count": 12,
     "metadata": {},
     "output_type": "execute_result"
    }
   ],
   "source": [
    "# Выведите его форму (shape)\n",
    "ftsr.shape"
   ]
  },
  {
   "cell_type": "code",
   "execution_count": 13,
   "metadata": {},
   "outputs": [
    {
     "data": {
      "text/plain": [
       "torch.Size([6, 10])"
      ]
     },
     "execution_count": 13,
     "metadata": {},
     "output_type": "execute_result"
    }
   ],
   "source": [
    "# Приведите его к форме 6 X 10\n",
    "ftsr.resize_(6,10)\n",
    "ftsr.shape"
   ]
  },
  {
   "cell_type": "code",
   "execution_count": 42,
   "metadata": {},
   "outputs": [
    {
     "data": {
      "text/plain": [
       "tensor([[-1.5490e+00, -2.1941e+00,  1.0321e+00, -3.2042e+00,  1.2680e+00,\n",
       "          4.9071e+00,  1.3352e+00, -2.6481e+00,  9.1854e-01,  0.0000e+00],\n",
       "        [-8.2821e-01, -3.7884e+00,  5.3783e-03, -5.1859e-01,  6.0436e-01,\n",
       "         -3.9360e-01,  3.9623e-01, -3.2656e+00,  2.2701e-01, -0.0000e+00],\n",
       "        [-1.1957e-01, -4.1396e+00, -5.6106e-01, -2.3005e+00,  1.1282e+00,\n",
       "         -2.3524e+00,  2.8835e+00,  1.1371e+01, -4.9694e-01, -0.0000e+00],\n",
       "        [ 6.0222e-01, -2.0891e+00, -9.3034e-01,  7.5829e-01,  1.9318e+00,\n",
       "          5.1409e+00, -2.6782e+00,  6.7610e+00,  4.7973e-01,  0.0000e+00],\n",
       "        [-5.0765e-01,  7.4711e-01,  2.0546e+00,  3.0342e+00,  1.1197e+00,\n",
       "          3.8454e+00,  2.0922e+00, -1.7155e+00,  4.3909e-01,  0.0000e+00],\n",
       "        [-8.7087e-01, -6.0414e+00,  3.8554e-01, -4.0527e-01,  9.4467e-01,\n",
       "         -2.7434e+00,  6.1966e-01,  1.0197e+01, -3.9535e-01,  0.0000e+00]])"
      ]
     },
     "execution_count": 42,
     "metadata": {},
     "output_type": "execute_result"
    }
   ],
   "source": [
    "# Умножьте его на вектор [1, 4, 2, 2, 1] поэлементно\n",
    "ftsr=ftsr*torch.FloatTensor([1, 4, 2, 2, 1,5,2,8,1,0])\n",
    "ftsr"
   ]
  },
  {
   "cell_type": "code",
   "execution_count": 33,
   "metadata": {},
   "outputs": [
    {
     "data": {
      "text/plain": [
       "torch.Size([6, 6])"
      ]
     },
     "execution_count": 33,
     "metadata": {},
     "output_type": "execute_result"
    }
   ],
   "source": [
    "# Умножьте тензор матрично на себя, чтобы результат был размерности 6x6\n",
    "ftsr_2=torch.matmul(ftsr,torch.transpose(ftsr,0,1))\n",
    "ftsr_2.shape"
   ]
  },
  {
   "cell_type": "code",
   "execution_count": 38,
   "metadata": {},
   "outputs": [
    {
     "name": "stdout",
     "output_type": "stream",
     "text": [
      "tensor(3.)\n",
      "********************\n",
      "tensor(1.)\n",
      "********************\n",
      "tensor(-75.)\n",
      "********************\n"
     ]
    }
   ],
   "source": [
    "# Посчитайте производную функции y = x**3 + z - 75t в точке (1, 0.5, 2)\n",
    "x=torch.tensor(1.0,requires_grad=True)\n",
    "z=torch.tensor(0.5,requires_grad=True)\n",
    "t=torch.tensor(2.0,requires_grad=True)\n",
    "y=x**3+z-75*t\n",
    "y.backward()\n",
    "print(x.grad)\n",
    "print(\"*\"*20)\n",
    "print(z.grad)\n",
    "print(\"*\"*20)\n",
    "print(t.grad)\n",
    "print(\"*\"*20)"
   ]
  },
  {
   "cell_type": "code",
   "execution_count": 39,
   "metadata": {},
   "outputs": [
    {
     "data": {
      "text/plain": [
       "tensor([[1., 1., 1., 1., 1., 1.],\n",
       "        [1., 1., 1., 1., 1., 1.],\n",
       "        [1., 1., 1., 1., 1., 1.],\n",
       "        [1., 1., 1., 1., 1., 1.],\n",
       "        [1., 1., 1., 1., 1., 1.]])"
      ]
     },
     "execution_count": 39,
     "metadata": {},
     "output_type": "execute_result"
    }
   ],
   "source": [
    "# Создайте единичный тензор размера 5x6\n",
    "ones=torch.ones(5,6)\n",
    "ones"
   ]
  },
  {
   "cell_type": "code",
   "execution_count": 41,
   "metadata": {},
   "outputs": [
    {
     "data": {
      "text/plain": [
       "array([[1., 1., 1., 1., 1., 1.],\n",
       "       [1., 1., 1., 1., 1., 1.],\n",
       "       [1., 1., 1., 1., 1., 1.],\n",
       "       [1., 1., 1., 1., 1., 1.],\n",
       "       [1., 1., 1., 1., 1., 1.]], dtype=float32)"
      ]
     },
     "execution_count": 41,
     "metadata": {},
     "output_type": "execute_result"
    }
   ],
   "source": [
    "# Переведите его в формат numpy\n",
    "ones=ones.numpy()\n",
    "ones"
   ]
  }
 ],
 "metadata": {
  "kernelspec": {
   "display_name": "Python 3",
   "language": "python",
   "name": "python3"
  },
  "language_info": {
   "codemirror_mode": {
    "name": "ipython",
    "version": 3
   },
   "file_extension": ".py",
   "mimetype": "text/x-python",
   "name": "python",
   "nbconvert_exporter": "python",
   "pygments_lexer": "ipython3",
   "version": "3.11.4"
  }
 },
 "nbformat": 4,
 "nbformat_minor": 2
}
